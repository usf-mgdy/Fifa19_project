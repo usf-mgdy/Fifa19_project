{
 "cells": [
  {
   "cell_type": "code",
   "execution_count": 1,
   "id": "overhead-setup",
   "metadata": {},
   "outputs": [],
   "source": [
    "# importing libiraries to be used\n",
    "import pandas as pd\n",
    "import numpy as np \n",
    "import matplotlib.pyplot as plt\n",
    "%matplotlib inline\n",
    "import seaborn as sns"
   ]
  },
  {
   "cell_type": "markdown",
   "id": "acoustic-african",
   "metadata": {},
   "source": [
    "# Loading the data\n",
    "\n",
    "loading the data to be cleaned and then analyzed"
   ]
  },
  {
   "cell_type": "code",
   "execution_count": 2,
   "id": "nutritional-emerald",
   "metadata": {},
   "outputs": [
    {
     "data": {
      "text/html": [
       "<div>\n",
       "<style scoped>\n",
       "    .dataframe tbody tr th:only-of-type {\n",
       "        vertical-align: middle;\n",
       "    }\n",
       "\n",
       "    .dataframe tbody tr th {\n",
       "        vertical-align: top;\n",
       "    }\n",
       "\n",
       "    .dataframe thead th {\n",
       "        text-align: right;\n",
       "    }\n",
       "</style>\n",
       "<table border=\"1\" class=\"dataframe\">\n",
       "  <thead>\n",
       "    <tr style=\"text-align: right;\">\n",
       "      <th></th>\n",
       "      <th>Unnamed: 0</th>\n",
       "      <th>ID</th>\n",
       "      <th>Name</th>\n",
       "      <th>Age</th>\n",
       "      <th>Photo</th>\n",
       "      <th>Nationality</th>\n",
       "      <th>Flag</th>\n",
       "      <th>Overall</th>\n",
       "      <th>Potential</th>\n",
       "      <th>Club</th>\n",
       "      <th>...</th>\n",
       "      <th>Composure</th>\n",
       "      <th>Marking</th>\n",
       "      <th>StandingTackle</th>\n",
       "      <th>SlidingTackle</th>\n",
       "      <th>GKDiving</th>\n",
       "      <th>GKHandling</th>\n",
       "      <th>GKKicking</th>\n",
       "      <th>GKPositioning</th>\n",
       "      <th>GKReflexes</th>\n",
       "      <th>Release Clause</th>\n",
       "    </tr>\n",
       "  </thead>\n",
       "  <tbody>\n",
       "    <tr>\n",
       "      <th>0</th>\n",
       "      <td>0</td>\n",
       "      <td>158023</td>\n",
       "      <td>L. Messi</td>\n",
       "      <td>31</td>\n",
       "      <td>https://cdn.sofifa.org/players/4/19/158023.png</td>\n",
       "      <td>Argentina</td>\n",
       "      <td>https://cdn.sofifa.org/flags/52.png</td>\n",
       "      <td>94</td>\n",
       "      <td>94</td>\n",
       "      <td>FC Barcelona</td>\n",
       "      <td>...</td>\n",
       "      <td>96.0</td>\n",
       "      <td>33.0</td>\n",
       "      <td>28.0</td>\n",
       "      <td>26.0</td>\n",
       "      <td>6.0</td>\n",
       "      <td>11.0</td>\n",
       "      <td>15.0</td>\n",
       "      <td>14.0</td>\n",
       "      <td>8.0</td>\n",
       "      <td>€226.5M</td>\n",
       "    </tr>\n",
       "    <tr>\n",
       "      <th>1</th>\n",
       "      <td>1</td>\n",
       "      <td>20801</td>\n",
       "      <td>Cristiano Ronaldo</td>\n",
       "      <td>33</td>\n",
       "      <td>https://cdn.sofifa.org/players/4/19/20801.png</td>\n",
       "      <td>Portugal</td>\n",
       "      <td>https://cdn.sofifa.org/flags/38.png</td>\n",
       "      <td>94</td>\n",
       "      <td>94</td>\n",
       "      <td>Juventus</td>\n",
       "      <td>...</td>\n",
       "      <td>95.0</td>\n",
       "      <td>28.0</td>\n",
       "      <td>31.0</td>\n",
       "      <td>23.0</td>\n",
       "      <td>7.0</td>\n",
       "      <td>11.0</td>\n",
       "      <td>15.0</td>\n",
       "      <td>14.0</td>\n",
       "      <td>11.0</td>\n",
       "      <td>€127.1M</td>\n",
       "    </tr>\n",
       "    <tr>\n",
       "      <th>2</th>\n",
       "      <td>2</td>\n",
       "      <td>190871</td>\n",
       "      <td>Neymar Jr</td>\n",
       "      <td>26</td>\n",
       "      <td>https://cdn.sofifa.org/players/4/19/190871.png</td>\n",
       "      <td>Brazil</td>\n",
       "      <td>https://cdn.sofifa.org/flags/54.png</td>\n",
       "      <td>92</td>\n",
       "      <td>93</td>\n",
       "      <td>Paris Saint-Germain</td>\n",
       "      <td>...</td>\n",
       "      <td>94.0</td>\n",
       "      <td>27.0</td>\n",
       "      <td>24.0</td>\n",
       "      <td>33.0</td>\n",
       "      <td>9.0</td>\n",
       "      <td>9.0</td>\n",
       "      <td>15.0</td>\n",
       "      <td>15.0</td>\n",
       "      <td>11.0</td>\n",
       "      <td>€228.1M</td>\n",
       "    </tr>\n",
       "    <tr>\n",
       "      <th>3</th>\n",
       "      <td>3</td>\n",
       "      <td>193080</td>\n",
       "      <td>De Gea</td>\n",
       "      <td>27</td>\n",
       "      <td>https://cdn.sofifa.org/players/4/19/193080.png</td>\n",
       "      <td>Spain</td>\n",
       "      <td>https://cdn.sofifa.org/flags/45.png</td>\n",
       "      <td>91</td>\n",
       "      <td>93</td>\n",
       "      <td>Manchester United</td>\n",
       "      <td>...</td>\n",
       "      <td>68.0</td>\n",
       "      <td>15.0</td>\n",
       "      <td>21.0</td>\n",
       "      <td>13.0</td>\n",
       "      <td>90.0</td>\n",
       "      <td>85.0</td>\n",
       "      <td>87.0</td>\n",
       "      <td>88.0</td>\n",
       "      <td>94.0</td>\n",
       "      <td>€138.6M</td>\n",
       "    </tr>\n",
       "    <tr>\n",
       "      <th>4</th>\n",
       "      <td>4</td>\n",
       "      <td>192985</td>\n",
       "      <td>K. De Bruyne</td>\n",
       "      <td>27</td>\n",
       "      <td>https://cdn.sofifa.org/players/4/19/192985.png</td>\n",
       "      <td>Belgium</td>\n",
       "      <td>https://cdn.sofifa.org/flags/7.png</td>\n",
       "      <td>91</td>\n",
       "      <td>92</td>\n",
       "      <td>Manchester City</td>\n",
       "      <td>...</td>\n",
       "      <td>88.0</td>\n",
       "      <td>68.0</td>\n",
       "      <td>58.0</td>\n",
       "      <td>51.0</td>\n",
       "      <td>15.0</td>\n",
       "      <td>13.0</td>\n",
       "      <td>5.0</td>\n",
       "      <td>10.0</td>\n",
       "      <td>13.0</td>\n",
       "      <td>€196.4M</td>\n",
       "    </tr>\n",
       "  </tbody>\n",
       "</table>\n",
       "<p>5 rows × 89 columns</p>\n",
       "</div>"
      ],
      "text/plain": [
       "   Unnamed: 0      ID               Name  Age  \\\n",
       "0           0  158023           L. Messi   31   \n",
       "1           1   20801  Cristiano Ronaldo   33   \n",
       "2           2  190871          Neymar Jr   26   \n",
       "3           3  193080             De Gea   27   \n",
       "4           4  192985       K. De Bruyne   27   \n",
       "\n",
       "                                            Photo Nationality  \\\n",
       "0  https://cdn.sofifa.org/players/4/19/158023.png   Argentina   \n",
       "1   https://cdn.sofifa.org/players/4/19/20801.png    Portugal   \n",
       "2  https://cdn.sofifa.org/players/4/19/190871.png      Brazil   \n",
       "3  https://cdn.sofifa.org/players/4/19/193080.png       Spain   \n",
       "4  https://cdn.sofifa.org/players/4/19/192985.png     Belgium   \n",
       "\n",
       "                                  Flag  Overall  Potential  \\\n",
       "0  https://cdn.sofifa.org/flags/52.png       94         94   \n",
       "1  https://cdn.sofifa.org/flags/38.png       94         94   \n",
       "2  https://cdn.sofifa.org/flags/54.png       92         93   \n",
       "3  https://cdn.sofifa.org/flags/45.png       91         93   \n",
       "4   https://cdn.sofifa.org/flags/7.png       91         92   \n",
       "\n",
       "                  Club  ... Composure Marking StandingTackle  SlidingTackle  \\\n",
       "0         FC Barcelona  ...      96.0    33.0           28.0           26.0   \n",
       "1             Juventus  ...      95.0    28.0           31.0           23.0   \n",
       "2  Paris Saint-Germain  ...      94.0    27.0           24.0           33.0   \n",
       "3    Manchester United  ...      68.0    15.0           21.0           13.0   \n",
       "4      Manchester City  ...      88.0    68.0           58.0           51.0   \n",
       "\n",
       "  GKDiving  GKHandling  GKKicking  GKPositioning GKReflexes Release Clause  \n",
       "0      6.0        11.0       15.0           14.0        8.0        €226.5M  \n",
       "1      7.0        11.0       15.0           14.0       11.0        €127.1M  \n",
       "2      9.0         9.0       15.0           15.0       11.0        €228.1M  \n",
       "3     90.0        85.0       87.0           88.0       94.0        €138.6M  \n",
       "4     15.0        13.0        5.0           10.0       13.0        €196.4M  \n",
       "\n",
       "[5 rows x 89 columns]"
      ]
     },
     "execution_count": 2,
     "metadata": {},
     "output_type": "execute_result"
    }
   ],
   "source": [
    "#Loading data\n",
    "df = pd.read_csv('data.csv')\n",
    "df.head()"
   ]
  },
  {
   "cell_type": "markdown",
   "id": "alike-destruction",
   "metadata": {},
   "source": [
    "## There are 89 columns \n",
    "Not all these columns will be used some of them are usless for the purpose of the analysis"
   ]
  },
  {
   "cell_type": "code",
   "execution_count": 3,
   "id": "traditional-respondent",
   "metadata": {},
   "outputs": [
    {
     "data": {
      "text/plain": [
       "Index(['Unnamed: 0', 'ID', 'Name', 'Age', 'Photo', 'Nationality', 'Flag',\n",
       "       'Overall', 'Potential', 'Club', 'Club Logo', 'Value', 'Wage', 'Special',\n",
       "       'Preferred Foot', 'International Reputation', 'Weak Foot',\n",
       "       'Skill Moves', 'Work Rate', 'Body Type', 'Real Face', 'Position',\n",
       "       'Jersey Number', 'Joined', 'Loaned From', 'Contract Valid Until',\n",
       "       'Height', 'Weight', 'LS', 'ST', 'RS', 'LW', 'LF', 'CF', 'RF', 'RW',\n",
       "       'LAM', 'CAM', 'RAM', 'LM', 'LCM', 'CM', 'RCM', 'RM', 'LWB', 'LDM',\n",
       "       'CDM', 'RDM', 'RWB', 'LB', 'LCB', 'CB', 'RCB', 'RB', 'Crossing',\n",
       "       'Finishing', 'HeadingAccuracy', 'ShortPassing', 'Volleys', 'Dribbling',\n",
       "       'Curve', 'FKAccuracy', 'LongPassing', 'BallControl', 'Acceleration',\n",
       "       'SprintSpeed', 'Agility', 'Reactions', 'Balance', 'ShotPower',\n",
       "       'Jumping', 'Stamina', 'Strength', 'LongShots', 'Aggression',\n",
       "       'Interceptions', 'Positioning', 'Vision', 'Penalties', 'Composure',\n",
       "       'Marking', 'StandingTackle', 'SlidingTackle', 'GKDiving', 'GKHandling',\n",
       "       'GKKicking', 'GKPositioning', 'GKReflexes', 'Release Clause'],\n",
       "      dtype='object')"
      ]
     },
     "execution_count": 3,
     "metadata": {},
     "output_type": "execute_result"
    }
   ],
   "source": [
    "df.columns"
   ]
  },
  {
   "cell_type": "markdown",
   "id": "boxed-donna",
   "metadata": {},
   "source": [
    "## Usless columns\n",
    "<li>ID</li>\n",
    "<li>Photo</li>\n",
    "<li>Flag </li>\n",
    "<li>Club Logo </li>\n",
    "<li>Special</li>\n",
    "<li>Jersey Number</li>\n",
    "<li>Loaned From</li>\n",
    "<li>Contract Valid Until</li>\n",
    "<li>Release Clause</li>\n",
    "<li>GKDiving</li>\n",
    "<li>GKHandling</li>\n",
    "<li>GKKicking </li>\n",
    "<li>GKPositioning</li>\n",
    "<li>GKReflexes</li>\n",
    "<li>Reactions</li>\n",
    "<li>Balance</li>\n",
    "<li>(All position cols)</li>"
   ]
  },
  {
   "cell_type": "code",
   "execution_count": 4,
   "id": "designing-separation",
   "metadata": {},
   "outputs": [
    {
     "data": {
      "text/plain": [
       "0"
      ]
     },
     "execution_count": 4,
     "metadata": {},
     "output_type": "execute_result"
    }
   ],
   "source": [
    "# Checking for duplicated rows and \n",
    "df.duplicated().sum()"
   ]
  },
  {
   "cell_type": "markdown",
   "id": "enormous-foster",
   "metadata": {},
   "source": [
    "## Assessing data to get more info about it"
   ]
  },
  {
   "cell_type": "code",
   "execution_count": 5,
   "id": "irish-christian",
   "metadata": {
    "scrolled": true
   },
   "outputs": [
    {
     "data": {
      "text/html": [
       "<div>\n",
       "<style scoped>\n",
       "    .dataframe tbody tr th:only-of-type {\n",
       "        vertical-align: middle;\n",
       "    }\n",
       "\n",
       "    .dataframe tbody tr th {\n",
       "        vertical-align: top;\n",
       "    }\n",
       "\n",
       "    .dataframe thead th {\n",
       "        text-align: right;\n",
       "    }\n",
       "</style>\n",
       "<table border=\"1\" class=\"dataframe\">\n",
       "  <thead>\n",
       "    <tr style=\"text-align: right;\">\n",
       "      <th></th>\n",
       "      <th>Unnamed: 0</th>\n",
       "      <th>ID</th>\n",
       "      <th>Age</th>\n",
       "      <th>Overall</th>\n",
       "      <th>Potential</th>\n",
       "      <th>Special</th>\n",
       "      <th>International Reputation</th>\n",
       "      <th>Weak Foot</th>\n",
       "      <th>Skill Moves</th>\n",
       "      <th>Jersey Number</th>\n",
       "      <th>...</th>\n",
       "      <th>Penalties</th>\n",
       "      <th>Composure</th>\n",
       "      <th>Marking</th>\n",
       "      <th>StandingTackle</th>\n",
       "      <th>SlidingTackle</th>\n",
       "      <th>GKDiving</th>\n",
       "      <th>GKHandling</th>\n",
       "      <th>GKKicking</th>\n",
       "      <th>GKPositioning</th>\n",
       "      <th>GKReflexes</th>\n",
       "    </tr>\n",
       "  </thead>\n",
       "  <tbody>\n",
       "    <tr>\n",
       "      <th>count</th>\n",
       "      <td>18207.000000</td>\n",
       "      <td>18207.000000</td>\n",
       "      <td>18207.000000</td>\n",
       "      <td>18207.000000</td>\n",
       "      <td>18207.000000</td>\n",
       "      <td>18207.000000</td>\n",
       "      <td>18159.000000</td>\n",
       "      <td>18159.000000</td>\n",
       "      <td>18159.000000</td>\n",
       "      <td>18147.000000</td>\n",
       "      <td>...</td>\n",
       "      <td>18159.000000</td>\n",
       "      <td>18159.000000</td>\n",
       "      <td>18159.000000</td>\n",
       "      <td>18159.000000</td>\n",
       "      <td>18159.000000</td>\n",
       "      <td>18159.000000</td>\n",
       "      <td>18159.000000</td>\n",
       "      <td>18159.000000</td>\n",
       "      <td>18159.000000</td>\n",
       "      <td>18159.000000</td>\n",
       "    </tr>\n",
       "    <tr>\n",
       "      <th>mean</th>\n",
       "      <td>9103.000000</td>\n",
       "      <td>214298.338606</td>\n",
       "      <td>25.122206</td>\n",
       "      <td>66.238699</td>\n",
       "      <td>71.307299</td>\n",
       "      <td>1597.809908</td>\n",
       "      <td>1.113222</td>\n",
       "      <td>2.947299</td>\n",
       "      <td>2.361308</td>\n",
       "      <td>19.546096</td>\n",
       "      <td>...</td>\n",
       "      <td>48.548598</td>\n",
       "      <td>58.648274</td>\n",
       "      <td>47.281623</td>\n",
       "      <td>47.697836</td>\n",
       "      <td>45.661435</td>\n",
       "      <td>16.616223</td>\n",
       "      <td>16.391596</td>\n",
       "      <td>16.232061</td>\n",
       "      <td>16.388898</td>\n",
       "      <td>16.710887</td>\n",
       "    </tr>\n",
       "    <tr>\n",
       "      <th>std</th>\n",
       "      <td>5256.052511</td>\n",
       "      <td>29965.244204</td>\n",
       "      <td>4.669943</td>\n",
       "      <td>6.908930</td>\n",
       "      <td>6.136496</td>\n",
       "      <td>272.586016</td>\n",
       "      <td>0.394031</td>\n",
       "      <td>0.660456</td>\n",
       "      <td>0.756164</td>\n",
       "      <td>15.947765</td>\n",
       "      <td>...</td>\n",
       "      <td>15.704053</td>\n",
       "      <td>11.436133</td>\n",
       "      <td>19.904397</td>\n",
       "      <td>21.664004</td>\n",
       "      <td>21.289135</td>\n",
       "      <td>17.695349</td>\n",
       "      <td>16.906900</td>\n",
       "      <td>16.502864</td>\n",
       "      <td>17.034669</td>\n",
       "      <td>17.955119</td>\n",
       "    </tr>\n",
       "    <tr>\n",
       "      <th>min</th>\n",
       "      <td>0.000000</td>\n",
       "      <td>16.000000</td>\n",
       "      <td>16.000000</td>\n",
       "      <td>46.000000</td>\n",
       "      <td>48.000000</td>\n",
       "      <td>731.000000</td>\n",
       "      <td>1.000000</td>\n",
       "      <td>1.000000</td>\n",
       "      <td>1.000000</td>\n",
       "      <td>1.000000</td>\n",
       "      <td>...</td>\n",
       "      <td>5.000000</td>\n",
       "      <td>3.000000</td>\n",
       "      <td>3.000000</td>\n",
       "      <td>2.000000</td>\n",
       "      <td>3.000000</td>\n",
       "      <td>1.000000</td>\n",
       "      <td>1.000000</td>\n",
       "      <td>1.000000</td>\n",
       "      <td>1.000000</td>\n",
       "      <td>1.000000</td>\n",
       "    </tr>\n",
       "    <tr>\n",
       "      <th>25%</th>\n",
       "      <td>4551.500000</td>\n",
       "      <td>200315.500000</td>\n",
       "      <td>21.000000</td>\n",
       "      <td>62.000000</td>\n",
       "      <td>67.000000</td>\n",
       "      <td>1457.000000</td>\n",
       "      <td>1.000000</td>\n",
       "      <td>3.000000</td>\n",
       "      <td>2.000000</td>\n",
       "      <td>8.000000</td>\n",
       "      <td>...</td>\n",
       "      <td>39.000000</td>\n",
       "      <td>51.000000</td>\n",
       "      <td>30.000000</td>\n",
       "      <td>27.000000</td>\n",
       "      <td>24.000000</td>\n",
       "      <td>8.000000</td>\n",
       "      <td>8.000000</td>\n",
       "      <td>8.000000</td>\n",
       "      <td>8.000000</td>\n",
       "      <td>8.000000</td>\n",
       "    </tr>\n",
       "    <tr>\n",
       "      <th>50%</th>\n",
       "      <td>9103.000000</td>\n",
       "      <td>221759.000000</td>\n",
       "      <td>25.000000</td>\n",
       "      <td>66.000000</td>\n",
       "      <td>71.000000</td>\n",
       "      <td>1635.000000</td>\n",
       "      <td>1.000000</td>\n",
       "      <td>3.000000</td>\n",
       "      <td>2.000000</td>\n",
       "      <td>17.000000</td>\n",
       "      <td>...</td>\n",
       "      <td>49.000000</td>\n",
       "      <td>60.000000</td>\n",
       "      <td>53.000000</td>\n",
       "      <td>55.000000</td>\n",
       "      <td>52.000000</td>\n",
       "      <td>11.000000</td>\n",
       "      <td>11.000000</td>\n",
       "      <td>11.000000</td>\n",
       "      <td>11.000000</td>\n",
       "      <td>11.000000</td>\n",
       "    </tr>\n",
       "    <tr>\n",
       "      <th>75%</th>\n",
       "      <td>13654.500000</td>\n",
       "      <td>236529.500000</td>\n",
       "      <td>28.000000</td>\n",
       "      <td>71.000000</td>\n",
       "      <td>75.000000</td>\n",
       "      <td>1787.000000</td>\n",
       "      <td>1.000000</td>\n",
       "      <td>3.000000</td>\n",
       "      <td>3.000000</td>\n",
       "      <td>26.000000</td>\n",
       "      <td>...</td>\n",
       "      <td>60.000000</td>\n",
       "      <td>67.000000</td>\n",
       "      <td>64.000000</td>\n",
       "      <td>66.000000</td>\n",
       "      <td>64.000000</td>\n",
       "      <td>14.000000</td>\n",
       "      <td>14.000000</td>\n",
       "      <td>14.000000</td>\n",
       "      <td>14.000000</td>\n",
       "      <td>14.000000</td>\n",
       "    </tr>\n",
       "    <tr>\n",
       "      <th>max</th>\n",
       "      <td>18206.000000</td>\n",
       "      <td>246620.000000</td>\n",
       "      <td>45.000000</td>\n",
       "      <td>94.000000</td>\n",
       "      <td>95.000000</td>\n",
       "      <td>2346.000000</td>\n",
       "      <td>5.000000</td>\n",
       "      <td>5.000000</td>\n",
       "      <td>5.000000</td>\n",
       "      <td>99.000000</td>\n",
       "      <td>...</td>\n",
       "      <td>92.000000</td>\n",
       "      <td>96.000000</td>\n",
       "      <td>94.000000</td>\n",
       "      <td>93.000000</td>\n",
       "      <td>91.000000</td>\n",
       "      <td>90.000000</td>\n",
       "      <td>92.000000</td>\n",
       "      <td>91.000000</td>\n",
       "      <td>90.000000</td>\n",
       "      <td>94.000000</td>\n",
       "    </tr>\n",
       "  </tbody>\n",
       "</table>\n",
       "<p>8 rows × 44 columns</p>\n",
       "</div>"
      ],
      "text/plain": [
       "         Unnamed: 0             ID           Age       Overall     Potential  \\\n",
       "count  18207.000000   18207.000000  18207.000000  18207.000000  18207.000000   \n",
       "mean    9103.000000  214298.338606     25.122206     66.238699     71.307299   \n",
       "std     5256.052511   29965.244204      4.669943      6.908930      6.136496   \n",
       "min        0.000000      16.000000     16.000000     46.000000     48.000000   \n",
       "25%     4551.500000  200315.500000     21.000000     62.000000     67.000000   \n",
       "50%     9103.000000  221759.000000     25.000000     66.000000     71.000000   \n",
       "75%    13654.500000  236529.500000     28.000000     71.000000     75.000000   \n",
       "max    18206.000000  246620.000000     45.000000     94.000000     95.000000   \n",
       "\n",
       "            Special  International Reputation     Weak Foot   Skill Moves  \\\n",
       "count  18207.000000              18159.000000  18159.000000  18159.000000   \n",
       "mean    1597.809908                  1.113222      2.947299      2.361308   \n",
       "std      272.586016                  0.394031      0.660456      0.756164   \n",
       "min      731.000000                  1.000000      1.000000      1.000000   \n",
       "25%     1457.000000                  1.000000      3.000000      2.000000   \n",
       "50%     1635.000000                  1.000000      3.000000      2.000000   \n",
       "75%     1787.000000                  1.000000      3.000000      3.000000   \n",
       "max     2346.000000                  5.000000      5.000000      5.000000   \n",
       "\n",
       "       Jersey Number  ...     Penalties     Composure       Marking  \\\n",
       "count   18147.000000  ...  18159.000000  18159.000000  18159.000000   \n",
       "mean       19.546096  ...     48.548598     58.648274     47.281623   \n",
       "std        15.947765  ...     15.704053     11.436133     19.904397   \n",
       "min         1.000000  ...      5.000000      3.000000      3.000000   \n",
       "25%         8.000000  ...     39.000000     51.000000     30.000000   \n",
       "50%        17.000000  ...     49.000000     60.000000     53.000000   \n",
       "75%        26.000000  ...     60.000000     67.000000     64.000000   \n",
       "max        99.000000  ...     92.000000     96.000000     94.000000   \n",
       "\n",
       "       StandingTackle  SlidingTackle      GKDiving    GKHandling  \\\n",
       "count    18159.000000   18159.000000  18159.000000  18159.000000   \n",
       "mean        47.697836      45.661435     16.616223     16.391596   \n",
       "std         21.664004      21.289135     17.695349     16.906900   \n",
       "min          2.000000       3.000000      1.000000      1.000000   \n",
       "25%         27.000000      24.000000      8.000000      8.000000   \n",
       "50%         55.000000      52.000000     11.000000     11.000000   \n",
       "75%         66.000000      64.000000     14.000000     14.000000   \n",
       "max         93.000000      91.000000     90.000000     92.000000   \n",
       "\n",
       "          GKKicking  GKPositioning    GKReflexes  \n",
       "count  18159.000000   18159.000000  18159.000000  \n",
       "mean      16.232061      16.388898     16.710887  \n",
       "std       16.502864      17.034669     17.955119  \n",
       "min        1.000000       1.000000      1.000000  \n",
       "25%        8.000000       8.000000      8.000000  \n",
       "50%       11.000000      11.000000     11.000000  \n",
       "75%       14.000000      14.000000     14.000000  \n",
       "max       91.000000      90.000000     94.000000  \n",
       "\n",
       "[8 rows x 44 columns]"
      ]
     },
     "execution_count": 5,
     "metadata": {},
     "output_type": "execute_result"
    }
   ],
   "source": [
    "df.describe()"
   ]
  },
  {
   "cell_type": "code",
   "execution_count": 6,
   "id": "pacific-uniform",
   "metadata": {
    "scrolled": true
   },
   "outputs": [
    {
     "name": "stdout",
     "output_type": "stream",
     "text": [
      "<class 'pandas.core.frame.DataFrame'>\n",
      "RangeIndex: 18207 entries, 0 to 18206\n",
      "Data columns (total 89 columns):\n",
      " #   Column                    Non-Null Count  Dtype  \n",
      "---  ------                    --------------  -----  \n",
      " 0   Unnamed: 0                18207 non-null  int64  \n",
      " 1   ID                        18207 non-null  int64  \n",
      " 2   Name                      18207 non-null  object \n",
      " 3   Age                       18207 non-null  int64  \n",
      " 4   Photo                     18207 non-null  object \n",
      " 5   Nationality               18207 non-null  object \n",
      " 6   Flag                      18207 non-null  object \n",
      " 7   Overall                   18207 non-null  int64  \n",
      " 8   Potential                 18207 non-null  int64  \n",
      " 9   Club                      17966 non-null  object \n",
      " 10  Club Logo                 18207 non-null  object \n",
      " 11  Value                     18207 non-null  object \n",
      " 12  Wage                      18207 non-null  object \n",
      " 13  Special                   18207 non-null  int64  \n",
      " 14  Preferred Foot            18159 non-null  object \n",
      " 15  International Reputation  18159 non-null  float64\n",
      " 16  Weak Foot                 18159 non-null  float64\n",
      " 17  Skill Moves               18159 non-null  float64\n",
      " 18  Work Rate                 18159 non-null  object \n",
      " 19  Body Type                 18159 non-null  object \n",
      " 20  Real Face                 18159 non-null  object \n",
      " 21  Position                  18147 non-null  object \n",
      " 22  Jersey Number             18147 non-null  float64\n",
      " 23  Joined                    16654 non-null  object \n",
      " 24  Loaned From               1264 non-null   object \n",
      " 25  Contract Valid Until      17918 non-null  object \n",
      " 26  Height                    18159 non-null  object \n",
      " 27  Weight                    18159 non-null  object \n",
      " 28  LS                        16122 non-null  object \n",
      " 29  ST                        16122 non-null  object \n",
      " 30  RS                        16122 non-null  object \n",
      " 31  LW                        16122 non-null  object \n",
      " 32  LF                        16122 non-null  object \n",
      " 33  CF                        16122 non-null  object \n",
      " 34  RF                        16122 non-null  object \n",
      " 35  RW                        16122 non-null  object \n",
      " 36  LAM                       16122 non-null  object \n",
      " 37  CAM                       16122 non-null  object \n",
      " 38  RAM                       16122 non-null  object \n",
      " 39  LM                        16122 non-null  object \n",
      " 40  LCM                       16122 non-null  object \n",
      " 41  CM                        16122 non-null  object \n",
      " 42  RCM                       16122 non-null  object \n",
      " 43  RM                        16122 non-null  object \n",
      " 44  LWB                       16122 non-null  object \n",
      " 45  LDM                       16122 non-null  object \n",
      " 46  CDM                       16122 non-null  object \n",
      " 47  RDM                       16122 non-null  object \n",
      " 48  RWB                       16122 non-null  object \n",
      " 49  LB                        16122 non-null  object \n",
      " 50  LCB                       16122 non-null  object \n",
      " 51  CB                        16122 non-null  object \n",
      " 52  RCB                       16122 non-null  object \n",
      " 53  RB                        16122 non-null  object \n",
      " 54  Crossing                  18159 non-null  float64\n",
      " 55  Finishing                 18159 non-null  float64\n",
      " 56  HeadingAccuracy           18159 non-null  float64\n",
      " 57  ShortPassing              18159 non-null  float64\n",
      " 58  Volleys                   18159 non-null  float64\n",
      " 59  Dribbling                 18159 non-null  float64\n",
      " 60  Curve                     18159 non-null  float64\n",
      " 61  FKAccuracy                18159 non-null  float64\n",
      " 62  LongPassing               18159 non-null  float64\n",
      " 63  BallControl               18159 non-null  float64\n",
      " 64  Acceleration              18159 non-null  float64\n",
      " 65  SprintSpeed               18159 non-null  float64\n",
      " 66  Agility                   18159 non-null  float64\n",
      " 67  Reactions                 18159 non-null  float64\n",
      " 68  Balance                   18159 non-null  float64\n",
      " 69  ShotPower                 18159 non-null  float64\n",
      " 70  Jumping                   18159 non-null  float64\n",
      " 71  Stamina                   18159 non-null  float64\n",
      " 72  Strength                  18159 non-null  float64\n",
      " 73  LongShots                 18159 non-null  float64\n",
      " 74  Aggression                18159 non-null  float64\n",
      " 75  Interceptions             18159 non-null  float64\n",
      " 76  Positioning               18159 non-null  float64\n",
      " 77  Vision                    18159 non-null  float64\n",
      " 78  Penalties                 18159 non-null  float64\n",
      " 79  Composure                 18159 non-null  float64\n",
      " 80  Marking                   18159 non-null  float64\n",
      " 81  StandingTackle            18159 non-null  float64\n",
      " 82  SlidingTackle             18159 non-null  float64\n",
      " 83  GKDiving                  18159 non-null  float64\n",
      " 84  GKHandling                18159 non-null  float64\n",
      " 85  GKKicking                 18159 non-null  float64\n",
      " 86  GKPositioning             18159 non-null  float64\n",
      " 87  GKReflexes                18159 non-null  float64\n",
      " 88  Release Clause            16643 non-null  object \n",
      "dtypes: float64(38), int64(6), object(45)\n",
      "memory usage: 12.4+ MB\n"
     ]
    }
   ],
   "source": [
    "df.info()"
   ]
  },
  {
   "cell_type": "markdown",
   "id": "first-gathering",
   "metadata": {},
   "source": [
    "## Cleaning the data and adjusting data types"
   ]
  },
  {
   "cell_type": "code",
   "execution_count": 7,
   "id": "abroad-conditions",
   "metadata": {},
   "outputs": [],
   "source": [
    "# making a copy of the original df to clean it\n",
    "df_clean = df.copy()"
   ]
  },
  {
   "cell_type": "code",
   "execution_count": 8,
   "id": "cellular-luxembourg",
   "metadata": {},
   "outputs": [],
   "source": [
    "#useless columns to be removed\n",
    "cols = ['ID','Photo', 'Flag','Club Logo','Special','Jersey Number','Loaned From','Contract Valid Until',\n",
    "        'Release Clause','GKDiving', 'GKHandling','GKKicking', 'GKPositioning', 'GKReflexes','Reactions',\n",
    "        'Balance', 'LS', 'ST', 'RS', 'LW', 'LF','CF', 'RF', 'RW', 'LAM', 'CAM', 'RAM', 'LM', 'LCM', 'CM',\n",
    "        'RCM', 'RM', 'LWB', 'LDM','CDM', 'RDM', 'RWB', 'LB', 'LCB', 'CB', 'RCB', 'RB', 'Unnamed: 0']"
   ]
  },
  {
   "cell_type": "code",
   "execution_count": 9,
   "id": "technical-defendant",
   "metadata": {},
   "outputs": [],
   "source": [
    "#drop the useless columns it's better to make a list of the columns and then drop them\n",
    "df_clean.drop(columns=cols,inplace=True)"
   ]
  },
  {
   "cell_type": "code",
   "execution_count": 10,
   "id": "hindu-siemens",
   "metadata": {
    "scrolled": true
   },
   "outputs": [
    {
     "name": "stdout",
     "output_type": "stream",
     "text": [
      "<class 'pandas.core.frame.DataFrame'>\n",
      "RangeIndex: 18207 entries, 0 to 18206\n",
      "Data columns (total 46 columns):\n",
      " #   Column                    Non-Null Count  Dtype  \n",
      "---  ------                    --------------  -----  \n",
      " 0   Name                      18207 non-null  object \n",
      " 1   Age                       18207 non-null  int64  \n",
      " 2   Nationality               18207 non-null  object \n",
      " 3   Overall                   18207 non-null  int64  \n",
      " 4   Potential                 18207 non-null  int64  \n",
      " 5   Club                      17966 non-null  object \n",
      " 6   Value                     18207 non-null  object \n",
      " 7   Wage                      18207 non-null  object \n",
      " 8   Preferred Foot            18159 non-null  object \n",
      " 9   International Reputation  18159 non-null  float64\n",
      " 10  Weak Foot                 18159 non-null  float64\n",
      " 11  Skill Moves               18159 non-null  float64\n",
      " 12  Work Rate                 18159 non-null  object \n",
      " 13  Body Type                 18159 non-null  object \n",
      " 14  Real Face                 18159 non-null  object \n",
      " 15  Position                  18147 non-null  object \n",
      " 16  Joined                    16654 non-null  object \n",
      " 17  Height                    18159 non-null  object \n",
      " 18  Weight                    18159 non-null  object \n",
      " 19  Crossing                  18159 non-null  float64\n",
      " 20  Finishing                 18159 non-null  float64\n",
      " 21  HeadingAccuracy           18159 non-null  float64\n",
      " 22  ShortPassing              18159 non-null  float64\n",
      " 23  Volleys                   18159 non-null  float64\n",
      " 24  Dribbling                 18159 non-null  float64\n",
      " 25  Curve                     18159 non-null  float64\n",
      " 26  FKAccuracy                18159 non-null  float64\n",
      " 27  LongPassing               18159 non-null  float64\n",
      " 28  BallControl               18159 non-null  float64\n",
      " 29  Acceleration              18159 non-null  float64\n",
      " 30  SprintSpeed               18159 non-null  float64\n",
      " 31  Agility                   18159 non-null  float64\n",
      " 32  ShotPower                 18159 non-null  float64\n",
      " 33  Jumping                   18159 non-null  float64\n",
      " 34  Stamina                   18159 non-null  float64\n",
      " 35  Strength                  18159 non-null  float64\n",
      " 36  LongShots                 18159 non-null  float64\n",
      " 37  Aggression                18159 non-null  float64\n",
      " 38  Interceptions             18159 non-null  float64\n",
      " 39  Positioning               18159 non-null  float64\n",
      " 40  Vision                    18159 non-null  float64\n",
      " 41  Penalties                 18159 non-null  float64\n",
      " 42  Composure                 18159 non-null  float64\n",
      " 43  Marking                   18159 non-null  float64\n",
      " 44  StandingTackle            18159 non-null  float64\n",
      " 45  SlidingTackle             18159 non-null  float64\n",
      "dtypes: float64(30), int64(3), object(13)\n",
      "memory usage: 6.4+ MB\n"
     ]
    }
   ],
   "source": [
    "df_clean.info()"
   ]
  },
  {
   "cell_type": "code",
   "execution_count": 11,
   "id": "bridal-reynolds",
   "metadata": {},
   "outputs": [],
   "source": [
    "#the unit of Wage column is in thousand\n",
    "#in this cell i'm cleaning the Wage cool from the signs that indicate currencey and amount \n",
    "df_clean.Wage = df_clean.Wage.apply(lambda x: str(x).replace('€',''))\n",
    "df_clean.Wage = df_clean.Wage.apply(lambda x: str(x).replace('K',''))\n",
    "df_clean.Wage = df_clean.Wage.astype(float)"
   ]
  },
  {
   "cell_type": "code",
   "execution_count": 12,
   "id": "comparative-clause",
   "metadata": {},
   "outputs": [],
   "source": [
    "#the unit of Value column is in million\n",
    "#in this cell i'm cleaning the Wage cool from the signs that indicate currencey and amount \n",
    "df_clean.Value = df_clean.Value.apply(lambda x: str(x).replace('€',''))\n",
    "df_clean.Value = df_clean.Value.apply(lambda x: str(x).replace('K','000'))\n",
    "df_clean.Value = df_clean.Value.apply(lambda x: str(x).replace('M','00000') \\\n",
    "                                      if '.' in str(x) else str(x).replace('M','000000') )\n",
    "df_clean.Value = df_clean.Value.apply(lambda x: str(x).replace('.',''))\n",
    "df_clean.Value = df_clean.Value.astype(float)\n",
    "df_clean.Value = df_clean.Value / 10**6"
   ]
  },
  {
   "cell_type": "code",
   "execution_count": 13,
   "id": "distributed-oakland",
   "metadata": {},
   "outputs": [],
   "source": [
    "#Saving the clean df into csv to use it in the slide deck file to not clean it again there\n",
    "df_clean.to_csv('clean_df.csv',index = False)"
   ]
  },
  {
   "cell_type": "code",
   "execution_count": 14,
   "id": "military-welcome",
   "metadata": {},
   "outputs": [
    {
     "data": {
      "text/html": [
       "<div>\n",
       "<style scoped>\n",
       "    .dataframe tbody tr th:only-of-type {\n",
       "        vertical-align: middle;\n",
       "    }\n",
       "\n",
       "    .dataframe tbody tr th {\n",
       "        vertical-align: top;\n",
       "    }\n",
       "\n",
       "    .dataframe thead th {\n",
       "        text-align: right;\n",
       "    }\n",
       "</style>\n",
       "<table border=\"1\" class=\"dataframe\">\n",
       "  <thead>\n",
       "    <tr style=\"text-align: right;\">\n",
       "      <th></th>\n",
       "      <th>Name</th>\n",
       "      <th>Age</th>\n",
       "      <th>Overall</th>\n",
       "      <th>Potential</th>\n",
       "      <th>Club</th>\n",
       "      <th>Value</th>\n",
       "      <th>Wage</th>\n",
       "      <th>Preferred Foot</th>\n",
       "      <th>Position</th>\n",
       "      <th>Stamina</th>\n",
       "      <th>ShotPower</th>\n",
       "      <th>International Reputation</th>\n",
       "    </tr>\n",
       "  </thead>\n",
       "  <tbody>\n",
       "    <tr>\n",
       "      <th>0</th>\n",
       "      <td>L. Messi</td>\n",
       "      <td>31</td>\n",
       "      <td>94</td>\n",
       "      <td>94</td>\n",
       "      <td>FC Barcelona</td>\n",
       "      <td>110.5</td>\n",
       "      <td>565.0</td>\n",
       "      <td>Left</td>\n",
       "      <td>RF</td>\n",
       "      <td>72.0</td>\n",
       "      <td>85.0</td>\n",
       "      <td>5.0</td>\n",
       "    </tr>\n",
       "    <tr>\n",
       "      <th>1</th>\n",
       "      <td>Cristiano Ronaldo</td>\n",
       "      <td>33</td>\n",
       "      <td>94</td>\n",
       "      <td>94</td>\n",
       "      <td>Juventus</td>\n",
       "      <td>77.0</td>\n",
       "      <td>405.0</td>\n",
       "      <td>Right</td>\n",
       "      <td>ST</td>\n",
       "      <td>88.0</td>\n",
       "      <td>95.0</td>\n",
       "      <td>5.0</td>\n",
       "    </tr>\n",
       "    <tr>\n",
       "      <th>2</th>\n",
       "      <td>Neymar Jr</td>\n",
       "      <td>26</td>\n",
       "      <td>92</td>\n",
       "      <td>93</td>\n",
       "      <td>Paris Saint-Germain</td>\n",
       "      <td>118.5</td>\n",
       "      <td>290.0</td>\n",
       "      <td>Right</td>\n",
       "      <td>LW</td>\n",
       "      <td>81.0</td>\n",
       "      <td>80.0</td>\n",
       "      <td>5.0</td>\n",
       "    </tr>\n",
       "    <tr>\n",
       "      <th>3</th>\n",
       "      <td>De Gea</td>\n",
       "      <td>27</td>\n",
       "      <td>91</td>\n",
       "      <td>93</td>\n",
       "      <td>Manchester United</td>\n",
       "      <td>72.0</td>\n",
       "      <td>260.0</td>\n",
       "      <td>Right</td>\n",
       "      <td>GK</td>\n",
       "      <td>43.0</td>\n",
       "      <td>31.0</td>\n",
       "      <td>4.0</td>\n",
       "    </tr>\n",
       "    <tr>\n",
       "      <th>4</th>\n",
       "      <td>K. De Bruyne</td>\n",
       "      <td>27</td>\n",
       "      <td>91</td>\n",
       "      <td>92</td>\n",
       "      <td>Manchester City</td>\n",
       "      <td>102.0</td>\n",
       "      <td>355.0</td>\n",
       "      <td>Right</td>\n",
       "      <td>RCM</td>\n",
       "      <td>90.0</td>\n",
       "      <td>91.0</td>\n",
       "      <td>4.0</td>\n",
       "    </tr>\n",
       "  </tbody>\n",
       "</table>\n",
       "</div>"
      ],
      "text/plain": [
       "                Name  Age  Overall  Potential                 Club  Value  \\\n",
       "0           L. Messi   31       94         94         FC Barcelona  110.5   \n",
       "1  Cristiano Ronaldo   33       94         94             Juventus   77.0   \n",
       "2          Neymar Jr   26       92         93  Paris Saint-Germain  118.5   \n",
       "3             De Gea   27       91         93    Manchester United   72.0   \n",
       "4       K. De Bruyne   27       91         92      Manchester City  102.0   \n",
       "\n",
       "    Wage Preferred Foot Position  Stamina  ShotPower  International Reputation  \n",
       "0  565.0           Left       RF     72.0       85.0                       5.0  \n",
       "1  405.0          Right       ST     88.0       95.0                       5.0  \n",
       "2  290.0          Right       LW     81.0       80.0                       5.0  \n",
       "3  260.0          Right       GK     43.0       31.0                       4.0  \n",
       "4  355.0          Right      RCM     90.0       91.0                       4.0  "
      ]
     },
     "execution_count": 14,
     "metadata": {},
     "output_type": "execute_result"
    }
   ],
   "source": [
    "#taking the most important columns to work with them instead of taking 40+ cols and not use them all\n",
    "df_sal = df_clean[['Name', 'Age', 'Overall', 'Potential','Club', 'Value', 'Wage',\n",
    "                   'Preferred Foot', 'Position','Stamina','ShotPower','International Reputation']].copy()\n",
    "df_sal.head()"
   ]
  },
  {
   "cell_type": "code",
   "execution_count": 15,
   "id": "suitable-nylon",
   "metadata": {
    "scrolled": true
   },
   "outputs": [
    {
     "data": {
      "text/plain": [
       "Name                        0\n",
       "Age                         0\n",
       "Overall                     0\n",
       "Potential                   0\n",
       "Club                        0\n",
       "Value                       0\n",
       "Wage                        0\n",
       "Preferred Foot              0\n",
       "Position                    0\n",
       "Stamina                     0\n",
       "ShotPower                   0\n",
       "International Reputation    0\n",
       "dtype: int64"
      ]
     },
     "execution_count": 15,
     "metadata": {},
     "output_type": "execute_result"
    }
   ],
   "source": [
    "#dropping na values and checking if there is any left \n",
    "df_sal.dropna(inplace=True)\n",
    "df_sal.isnull().sum()"
   ]
  },
  {
   "cell_type": "markdown",
   "id": "plastic-orange",
   "metadata": {},
   "source": [
    "# Univariate exploration\n",
    "## Which Club is willing to pay above average Wage\n",
    "**why i specifically wanted to know the top clubs in paying wage?**\n",
    "\n",
    "to see if paying more is winning more and it really looks like that having better players that ask for more money results in winning more"
   ]
  },
  {
   "cell_type": "code",
   "execution_count": 16,
   "id": "narrow-crazy",
   "metadata": {},
   "outputs": [
    {
     "data": {
      "text/html": [
       "<div>\n",
       "<style scoped>\n",
       "    .dataframe tbody tr th:only-of-type {\n",
       "        vertical-align: middle;\n",
       "    }\n",
       "\n",
       "    .dataframe tbody tr th {\n",
       "        vertical-align: top;\n",
       "    }\n",
       "\n",
       "    .dataframe thead th {\n",
       "        text-align: right;\n",
       "    }\n",
       "</style>\n",
       "<table border=\"1\" class=\"dataframe\">\n",
       "  <thead>\n",
       "    <tr style=\"text-align: right;\">\n",
       "      <th></th>\n",
       "      <th>Club</th>\n",
       "      <th>Wage</th>\n",
       "    </tr>\n",
       "  </thead>\n",
       "  <tbody>\n",
       "    <tr>\n",
       "      <th>470</th>\n",
       "      <td>Real Madrid</td>\n",
       "      <td>5.017</td>\n",
       "    </tr>\n",
       "    <tr>\n",
       "      <th>212</th>\n",
       "      <td>FC Barcelona</td>\n",
       "      <td>4.837</td>\n",
       "    </tr>\n",
       "    <tr>\n",
       "      <th>374</th>\n",
       "      <td>Manchester City</td>\n",
       "      <td>3.741</td>\n",
       "    </tr>\n",
       "    <tr>\n",
       "      <th>375</th>\n",
       "      <td>Manchester United</td>\n",
       "      <td>3.391</td>\n",
       "    </tr>\n",
       "    <tr>\n",
       "      <th>326</th>\n",
       "      <td>Juventus</td>\n",
       "      <td>3.292</td>\n",
       "    </tr>\n",
       "    <tr>\n",
       "      <th>134</th>\n",
       "      <td>Chelsea</td>\n",
       "      <td>3.249</td>\n",
       "    </tr>\n",
       "    <tr>\n",
       "      <th>363</th>\n",
       "      <td>Liverpool</td>\n",
       "      <td>2.902</td>\n",
       "    </tr>\n",
       "    <tr>\n",
       "      <th>583</th>\n",
       "      <td>Tottenham Hotspur</td>\n",
       "      <td>2.623</td>\n",
       "    </tr>\n",
       "    <tr>\n",
       "      <th>52</th>\n",
       "      <td>Arsenal</td>\n",
       "      <td>2.588</td>\n",
       "    </tr>\n",
       "    <tr>\n",
       "      <th>214</th>\n",
       "      <td>FC Bayern München</td>\n",
       "      <td>2.286</td>\n",
       "    </tr>\n",
       "  </tbody>\n",
       "</table>\n",
       "</div>"
      ],
      "text/plain": [
       "                  Club   Wage\n",
       "470        Real Madrid  5.017\n",
       "212       FC Barcelona  4.837\n",
       "374    Manchester City  3.741\n",
       "375  Manchester United  3.391\n",
       "326           Juventus  3.292\n",
       "134            Chelsea  3.249\n",
       "363          Liverpool  2.902\n",
       "583  Tottenham Hotspur  2.623\n",
       "52             Arsenal  2.588\n",
       "214  FC Bayern München  2.286"
      ]
     },
     "execution_count": 16,
     "metadata": {},
     "output_type": "execute_result"
    }
   ],
   "source": [
    "#in this cell i grouped the the data by Clubs and arranged them by total wage paied to get a top 10 list\n",
    "#top clubs that pay wage\n",
    "wage = df_sal.groupby(['Club'],as_index=False)['Wage'].sum()\n",
    "top10_w = wage.sort_values(ascending = False,by='Wage')[:10]\n",
    "top10_w['Wage'] = top10_w['Wage']/10**3\n",
    "top10_w"
   ]
  },
  {
   "cell_type": "code",
   "execution_count": 17,
   "id": "secret-vermont",
   "metadata": {},
   "outputs": [
    {
     "data": {
      "image/png": "[encoded data removed]",
      "text/plain": [
       "<Figure size 432x288 with 1 Axes>"
      ]
     },
     "metadata": {
      "needs_background": "light"
     },
     "output_type": "display_data"
    }
   ],
   "source": [
    "#visualizing the outcome\n",
    "clubs = list(top10_w.Club)\n",
    "base_color = sns.color_palette()[0]\n",
    "plt.title('Wage paid weekly')\n",
    "sns.barplot(x=top10_w['Wage'],y= clubs,data = top10_w,color = base_color)\n",
    "plt.xlabel('Wage in millions');\n",
    "for i in range(10):\n",
    "    weekly_wage = list(top10_w[top10_w.Club.str.startswith(clubs[i])]['Wage'])[0]\n",
    "    pct_string = f'{str(weekly_wage)}M'\n",
    "    plt.text(weekly_wage, i, pct_string, va='center')"
   ]
  },
  {
   "cell_type": "markdown",
   "id": "excessive-diameter",
   "metadata": {},
   "source": [
    "## Clubs that have the most valuable players\n",
    "**What this plot proves?**\n",
    "\n",
    "this plot proves that paying more is winning more most of the last top 10 list is here in this plot and there is something in common in between all these clubs that they all are popualr and have a decent chang in winnig big titles"
   ]
  },
  {
   "cell_type": "code",
   "execution_count": 18,
   "id": "planned-printing",
   "metadata": {
    "scrolled": true
   },
   "outputs": [
    {
     "data": {
      "text/html": [
       "<div>\n",
       "<style scoped>\n",
       "    .dataframe tbody tr th:only-of-type {\n",
       "        vertical-align: middle;\n",
       "    }\n",
       "\n",
       "    .dataframe tbody tr th {\n",
       "        vertical-align: top;\n",
       "    }\n",
       "\n",
       "    .dataframe thead th {\n",
       "        text-align: right;\n",
       "    }\n",
       "</style>\n",
       "<table border=\"1\" class=\"dataframe\">\n",
       "  <thead>\n",
       "    <tr style=\"text-align: right;\">\n",
       "      <th></th>\n",
       "      <th>Club</th>\n",
       "      <th>Value</th>\n",
       "    </tr>\n",
       "  </thead>\n",
       "  <tbody>\n",
       "    <tr>\n",
       "      <th>470</th>\n",
       "      <td>Real Madrid</td>\n",
       "      <td>874.425</td>\n",
       "    </tr>\n",
       "    <tr>\n",
       "      <th>212</th>\n",
       "      <td>FC Barcelona</td>\n",
       "      <td>852.600</td>\n",
       "    </tr>\n",
       "    <tr>\n",
       "      <th>374</th>\n",
       "      <td>Manchester City</td>\n",
       "      <td>786.555</td>\n",
       "    </tr>\n",
       "    <tr>\n",
       "      <th>326</th>\n",
       "      <td>Juventus</td>\n",
       "      <td>704.475</td>\n",
       "    </tr>\n",
       "    <tr>\n",
       "      <th>214</th>\n",
       "      <td>FC Bayern München</td>\n",
       "      <td>679.025</td>\n",
       "    </tr>\n",
       "    <tr>\n",
       "      <th>61</th>\n",
       "      <td>Atlético Madrid</td>\n",
       "      <td>644.525</td>\n",
       "    </tr>\n",
       "    <tr>\n",
       "      <th>435</th>\n",
       "      <td>Paris Saint-Germain</td>\n",
       "      <td>625.325</td>\n",
       "    </tr>\n",
       "    <tr>\n",
       "      <th>583</th>\n",
       "      <td>Tottenham Hotspur</td>\n",
       "      <td>618.450</td>\n",
       "    </tr>\n",
       "    <tr>\n",
       "      <th>134</th>\n",
       "      <td>Chelsea</td>\n",
       "      <td>606.815</td>\n",
       "    </tr>\n",
       "    <tr>\n",
       "      <th>375</th>\n",
       "      <td>Manchester United</td>\n",
       "      <td>588.850</td>\n",
       "    </tr>\n",
       "  </tbody>\n",
       "</table>\n",
       "</div>"
      ],
      "text/plain": [
       "                    Club    Value\n",
       "470          Real Madrid  874.425\n",
       "212         FC Barcelona  852.600\n",
       "374      Manchester City  786.555\n",
       "326             Juventus  704.475\n",
       "214    FC Bayern München  679.025\n",
       "61       Atlético Madrid  644.525\n",
       "435  Paris Saint-Germain  625.325\n",
       "583    Tottenham Hotspur  618.450\n",
       "134              Chelsea  606.815\n",
       "375    Manchester United  588.850"
      ]
     },
     "execution_count": 18,
     "metadata": {},
     "output_type": "execute_result"
    }
   ],
   "source": [
    "#total value of players in clubs\n",
    "value = df_sal.groupby(['Club'],as_index=False)['Value'].sum()\n",
    "top10_v = value.sort_values(ascending = False,by='Value')[:10]\n",
    "top10_v['Value'] = top10_v['Value'].round(3)\n",
    "top10_v"
   ]
  },
  {
   "cell_type": "code",
   "execution_count": 19,
   "id": "large-monaco",
   "metadata": {
    "scrolled": true
   },
   "outputs": [
    {
     "data": {
      "image/png": "[encoded data removed]",
      "text/plain": [
       "<Figure size 432x288 with 1 Axes>"
      ]
     },
     "metadata": {
      "needs_background": "light"
     },
     "output_type": "display_data"
    }
   ],
   "source": [
    "#visualizing the outcome\n",
    "clubs_v = list(top10_v.Club)\n",
    "base_color = sns.color_palette()[0]\n",
    "plt.title('Totla Value of the players in each club')\n",
    "sns.barplot(x=top10_v.Value, y=clubs_v, data=top10_v, color=base_color)\n",
    "plt.xlabel('Value in millions');\n",
    "for i in range(10):\n",
    "    total_value = list(top10_v[top10_v.Club.str.startswith(clubs_v[i])]['Value'])[0]\n",
    "    pct_string = f'{str(total_value)}M'\n",
    "    plt.text(total_value, i, pct_string, va='center')"
   ]
  },
  {
   "cell_type": "markdown",
   "id": "important-brazilian",
   "metadata": {},
   "source": [
    "## Top 10 paid players \n",
    "**who are the top paid players and why are they top paid?**\n",
    "\n",
    "as we see the top paid players are all famous and have great experience in the game but this is not the only reason what they have in common is that all of them are in there 30's which is the sweet spot of being healthy at your peak and also have a lot of experience in what you do "
   ]
  },
  {
   "cell_type": "code",
   "execution_count": 20,
   "id": "headed-yukon",
   "metadata": {},
   "outputs": [
    {
     "data": {
      "text/html": [
       "<div>\n",
       "<style scoped>\n",
       "    .dataframe tbody tr th:only-of-type {\n",
       "        vertical-align: middle;\n",
       "    }\n",
       "\n",
       "    .dataframe tbody tr th {\n",
       "        vertical-align: top;\n",
       "    }\n",
       "\n",
       "    .dataframe thead th {\n",
       "        text-align: right;\n",
       "    }\n",
       "</style>\n",
       "<table border=\"1\" class=\"dataframe\">\n",
       "  <thead>\n",
       "    <tr style=\"text-align: right;\">\n",
       "      <th></th>\n",
       "      <th>Name</th>\n",
       "      <th>Wage</th>\n",
       "    </tr>\n",
       "  </thead>\n",
       "  <tbody>\n",
       "    <tr>\n",
       "      <th>9466</th>\n",
       "      <td>L. Messi</td>\n",
       "      <td>565.0</td>\n",
       "    </tr>\n",
       "    <tr>\n",
       "      <th>9671</th>\n",
       "      <td>L. Suárez</td>\n",
       "      <td>481.0</td>\n",
       "    </tr>\n",
       "    <tr>\n",
       "      <th>9474</th>\n",
       "      <td>L. Modrić</td>\n",
       "      <td>420.0</td>\n",
       "    </tr>\n",
       "    <tr>\n",
       "      <th>3090</th>\n",
       "      <td>Cristiano Ronaldo</td>\n",
       "      <td>405.0</td>\n",
       "    </tr>\n",
       "    <tr>\n",
       "      <th>7776</th>\n",
       "      <td>J. Rodríguez</td>\n",
       "      <td>380.0</td>\n",
       "    </tr>\n",
       "    <tr>\n",
       "      <th>15169</th>\n",
       "      <td>Sergio Ramos</td>\n",
       "      <td>380.0</td>\n",
       "    </tr>\n",
       "    <tr>\n",
       "      <th>11667</th>\n",
       "      <td>Marcelo</td>\n",
       "      <td>362.0</td>\n",
       "    </tr>\n",
       "    <tr>\n",
       "      <th>8472</th>\n",
       "      <td>K. De Bruyne</td>\n",
       "      <td>355.0</td>\n",
       "    </tr>\n",
       "    <tr>\n",
       "      <th>15542</th>\n",
       "      <td>T. Kroos</td>\n",
       "      <td>355.0</td>\n",
       "    </tr>\n",
       "    <tr>\n",
       "      <th>5418</th>\n",
       "      <td>G. Bale</td>\n",
       "      <td>355.0</td>\n",
       "    </tr>\n",
       "  </tbody>\n",
       "</table>\n",
       "</div>"
      ],
      "text/plain": [
       "                    Name   Wage\n",
       "9466            L. Messi  565.0\n",
       "9671           L. Suárez  481.0\n",
       "9474           L. Modrić  420.0\n",
       "3090   Cristiano Ronaldo  405.0\n",
       "7776        J. Rodríguez  380.0\n",
       "15169       Sergio Ramos  380.0\n",
       "11667            Marcelo  362.0\n",
       "8472        K. De Bruyne  355.0\n",
       "15542           T. Kroos  355.0\n",
       "5418             G. Bale  355.0"
      ]
     },
     "execution_count": 20,
     "metadata": {},
     "output_type": "execute_result"
    }
   ],
   "source": [
    "player = df_sal.groupby(['Name'],as_index=False)['Wage'].sum()\n",
    "top10_p = player.sort_values(ascending = False,by='Wage')[:10]\n",
    "top10_p['Wage'] = top10_p['Wage'].round(3)\n",
    "top10_p"
   ]
  },
  {
   "cell_type": "code",
   "execution_count": 21,
   "id": "major-inspection",
   "metadata": {},
   "outputs": [
    {
     "data": {
      "image/png": "[encoded data removed]",
      "text/plain": [
       "<Figure size 432x288 with 1 Axes>"
      ]
     },
     "metadata": {
      "needs_background": "light"
     },
     "output_type": "display_data"
    }
   ],
   "source": [
    "players = list(top10_p.Name)\n",
    "plt.title('Top 10 players')\n",
    "sns.barplot(x=top10_p.Wage, y=players, data=top10_p, color=base_color)\n",
    "plt.xlabel('Wage in thousands');\n",
    "for i in range(10):\n",
    "    total_value = list(top10_p[top10_p.Name.str.startswith(players[i])]['Wage'])[0]\n",
    "    pct_string = f'{str(total_value)}K'\n",
    "    plt.text(total_value, i, pct_string, va='center')"
   ]
  },
  {
   "cell_type": "markdown",
   "id": "virtual-carolina",
   "metadata": {},
   "source": [
    "## Players positions\n",
    "the purpose of this plot is to see what are the most wanted positions in soccer and looks like they are ST and GK"
   ]
  },
  {
   "cell_type": "code",
   "execution_count": 22,
   "id": "successful-hierarchy",
   "metadata": {},
   "outputs": [
    {
     "data": {
      "text/plain": [
       "ST     2130\n",
       "GK     1992\n",
       "CB     1754\n",
       "CM     1377\n",
       "LB     1305\n",
       "RB     1268\n",
       "RM     1114\n",
       "LM     1086\n",
       "CAM     948\n",
       "CDM     936\n",
       "RCB     652\n",
       "LCB     637\n",
       "LCM     389\n",
       "RCM     387\n",
       "LW      374\n",
       "RW      365\n",
       "RDM     246\n",
       "LDM     239\n",
       "LS      206\n",
       "RS      201\n",
       "RWB      87\n",
       "LWB      78\n",
       "CF       74\n",
       "LAM      21\n",
       "RAM      21\n",
       "RF       16\n",
       "LF       15\n",
       "Name: Position, dtype: int64"
      ]
     },
     "execution_count": 22,
     "metadata": {},
     "output_type": "execute_result"
    }
   ],
   "source": [
    "df_sal.Position.value_counts()"
   ]
  },
  {
   "cell_type": "code",
   "execution_count": 23,
   "id": "proprietary-mouse",
   "metadata": {
    "scrolled": false
   },
   "outputs": [
    {
     "data": {
      "image/png": "[encoded data removed]",
      "text/plain": [
       "<Figure size 504x360 with 1 Axes>"
      ]
     },
     "metadata": {
      "needs_background": "light"
     },
     "output_type": "display_data"
    }
   ],
   "source": [
    "#positions arranged according to how many players are in that position\n",
    "p = df_sal.Position.value_counts()[:20]\n",
    "plt.figure(figsize=[7,5])\n",
    "sns.barplot(x=p.keys(),y=p,color=base_color)\n",
    "plt.xlabel('Positions')\n",
    "plt.title('number of players in each position')\n",
    "plt.xticks(rotation=45);"
   ]
  },
  {
   "cell_type": "markdown",
   "id": "confirmed-yesterday",
   "metadata": {},
   "source": [
    "# Bivariate exploration\n",
    "## Relation between age and International Reputation\n",
    "**The reason i made this plot is:**\n",
    "\n",
    "to see the relation between international reputation of the player and there age and it proves my theory about the age sweet spot the players with high Rep are in their 30's "
   ]
  },
  {
   "cell_type": "code",
   "execution_count": 24,
   "id": "thick-longer",
   "metadata": {},
   "outputs": [
    {
     "data": {
      "text/plain": [
       "1.0    16532\n",
       "2.0     1261\n",
       "3.0      309\n",
       "4.0       51\n",
       "5.0        6\n",
       "Name: International Reputation, dtype: int64"
      ]
     },
     "execution_count": 24,
     "metadata": {},
     "output_type": "execute_result"
    }
   ],
   "source": [
    "df_clean['International Reputation'].value_counts()"
   ]
  },
  {
   "cell_type": "code",
   "execution_count": 25,
   "id": "rolled-permit",
   "metadata": {
    "scrolled": true
   },
   "outputs": [
    {
     "data": {
      "image/png": "[encoded data removed]",
      "text/plain": [
       "<Figure size 432x288 with 1 Axes>"
      ]
     },
     "metadata": {
      "needs_background": "light"
     },
     "output_type": "display_data"
    }
   ],
   "source": [
    "#box plot to show th relation between age and rep\n",
    "sns.boxplot(data=df_sal,y='Age',x='International Reputation',color=base_color)\n",
    "plt.ylabel('Age')\n",
    "plt.xlabel('International Reputation')\n",
    "plt.title('relation between age and Reputation');"
   ]
  },
  {
   "cell_type": "markdown",
   "id": "premier-dining",
   "metadata": {},
   "source": [
    "**As we see in the previous visualization that compares age and reputation of the players and reputation is from 1 to 5 and 5 is the highest majorty of players as we see have one and only few got 5, I also noticed that as the reputation score increses the box plot is not as spread which and it shrinks on both sides wich means that players need to be not only have crazy status but also have experience and looks like ages between 25 to 35 is where players have 4 and 5 rep points because usally this is the prime years of a player**"
   ]
  },
  {
   "cell_type": "markdown",
   "id": "resistant-fiber",
   "metadata": {},
   "source": [
    "## Relation between Overall and Wage\n",
    "**Why i made this plot?**\n",
    "\n",
    "to see if the there is a +ve linear relation between wage and overall it's +ve but it's not linear  "
   ]
  },
  {
   "cell_type": "code",
   "execution_count": 26,
   "id": "separate-guide",
   "metadata": {
    "scrolled": true
   },
   "outputs": [
    {
     "data": {
      "image/png": "[encoded data removed]",
      "text/plain": [
       "<Figure size 432x288 with 1 Axes>"
      ]
     },
     "metadata": {
      "needs_background": "light"
     },
     "output_type": "display_data"
    }
   ],
   "source": [
    "#scatter plot shows the relation between overall and wage\n",
    "plt.scatter(data=df_sal,x='Overall',y='Wage')\n",
    "plt.xlabel('players score')\n",
    "plt.ylabel('Wage')\n",
    "plt.title('relation between Overall points and Wage');"
   ]
  },
  {
   "cell_type": "markdown",
   "id": "introductory-collection",
   "metadata": {},
   "source": [
    "## Relation between Potential and Rep\n",
    "**Why i made this plot?**\n",
    "\n",
    "i chose violin plot for this to show the distribution of data and see the relation between potential and reputation"
   ]
  },
  {
   "cell_type": "code",
   "execution_count": 27,
   "id": "genetic-clinton",
   "metadata": {
    "scrolled": true
   },
   "outputs": [
    {
     "data": {
      "image/png": "[encoded data removed]",
      "text/plain": [
       "<Figure size 432x288 with 1 Axes>"
      ]
     },
     "metadata": {
      "needs_background": "light"
     },
     "output_type": "display_data"
    }
   ],
   "source": [
    "#violin plot shows the relation between rep and potential of a player\n",
    "sns.violinplot(data=df_sal,y='Potential',x='International Reputation',color=base_color)\n",
    "plt.ylabel('Potential')\n",
    "plt.xlabel('International Reputation')\n",
    "plt.title('relation between Potential and Reputation');"
   ]
  },
  {
   "cell_type": "markdown",
   "id": "friendly-claim",
   "metadata": {},
   "source": [
    "**In the last visualization we see that as the potential of players increase rep shrinks high rep like 4 and 5 is only for palyers in range 80's to 90's and there are not outliers but in the ranks 1 and 2  there is ton of outliers from that visual it seems that rep depends on many things potential is one of them but it's not a main reason because there is a lot of rank 2 players in the range of rank 4 and 5**"
   ]
  },
  {
   "cell_type": "markdown",
   "id": "advised-postage",
   "metadata": {},
   "source": [
    "# multivariate exploration\n"
   ]
  },
  {
   "cell_type": "markdown",
   "id": "distinguished-perry",
   "metadata": {},
   "source": [
    "## Relation between Overall, Wage and International Reputation\n",
    "**why i made this plot?** \n",
    "\n",
    "to check if all players with high rep get paied well and if they have high overall points and they all have high overall but there are  2 players who are underpaid or maybe it's just noise in the data"
   ]
  },
  {
   "cell_type": "code",
   "execution_count": 28,
   "id": "hawaiian-sussex",
   "metadata": {},
   "outputs": [
    {
     "data": {
      "image/png": "[encoded data removed]",
      "text/plain": [
       "<Figure size 489.25x360 with 1 Axes>"
      ]
     },
     "metadata": {
      "needs_background": "light"
     },
     "output_type": "display_data"
    }
   ],
   "source": [
    "#scatter plot between overall and wage with rep as a hue\n",
    "sns.lmplot(x='Overall',y='Wage', hue='International Reputation', \n",
    "           data=df_sal.loc[df_sal['Preferred Foot'].isin(['Left', 'Right'])], \n",
    "           fit_reg=False);"
   ]
  },
  {
   "cell_type": "code",
   "execution_count": 29,
   "id": "detailed-jungle",
   "metadata": {
    "scrolled": false
   },
   "outputs": [
    {
     "data": {
      "text/html": [
       "<div>\n",
       "<style scoped>\n",
       "    .dataframe tbody tr th:only-of-type {\n",
       "        vertical-align: middle;\n",
       "    }\n",
       "\n",
       "    .dataframe tbody tr th {\n",
       "        vertical-align: top;\n",
       "    }\n",
       "\n",
       "    .dataframe thead th {\n",
       "        text-align: right;\n",
       "    }\n",
       "</style>\n",
       "<table border=\"1\" class=\"dataframe\">\n",
       "  <thead>\n",
       "    <tr style=\"text-align: right;\">\n",
       "      <th></th>\n",
       "      <th>ShotPower</th>\n",
       "      <th>Jumping</th>\n",
       "      <th>Stamina</th>\n",
       "      <th>Strength</th>\n",
       "    </tr>\n",
       "  </thead>\n",
       "  <tbody>\n",
       "    <tr>\n",
       "      <th>ShotPower</th>\n",
       "      <td>1.000000</td>\n",
       "      <td>0.185823</td>\n",
       "      <td>0.616385</td>\n",
       "      <td>0.169515</td>\n",
       "    </tr>\n",
       "    <tr>\n",
       "      <th>Jumping</th>\n",
       "      <td>0.185823</td>\n",
       "      <td>1.000000</td>\n",
       "      <td>0.345968</td>\n",
       "      <td>0.284021</td>\n",
       "    </tr>\n",
       "    <tr>\n",
       "      <th>Stamina</th>\n",
       "      <td>0.616385</td>\n",
       "      <td>0.345968</td>\n",
       "      <td>1.000000</td>\n",
       "      <td>0.262694</td>\n",
       "    </tr>\n",
       "    <tr>\n",
       "      <th>Strength</th>\n",
       "      <td>0.169515</td>\n",
       "      <td>0.284021</td>\n",
       "      <td>0.262694</td>\n",
       "      <td>1.000000</td>\n",
       "    </tr>\n",
       "  </tbody>\n",
       "</table>\n",
       "</div>"
      ],
      "text/plain": [
       "           ShotPower   Jumping   Stamina  Strength\n",
       "ShotPower   1.000000  0.185823  0.616385  0.169515\n",
       "Jumping     0.185823  1.000000  0.345968  0.284021\n",
       "Stamina     0.616385  0.345968  1.000000  0.262694\n",
       "Strength    0.169515  0.284021  0.262694  1.000000"
      ]
     },
     "execution_count": 29,
     "metadata": {},
     "output_type": "execute_result"
    }
   ],
   "source": [
    "#correlation between('ShotPower', 'Jumping', 'Stamina', 'Strength')\n",
    "df_clean[['ShotPower', 'Jumping', 'Stamina', 'Strength']].corr()"
   ]
  },
  {
   "cell_type": "markdown",
   "id": "colonial-priority",
   "metadata": {},
   "source": [
    "## The next plot is a heat map that shows the relation between some variabels \n",
    "**the purpose of this heat map is:**\n",
    "\n",
    "to discover relations between some variabelsand as it shows value, potential, overall and wage have a +ve relation with reputation "
   ]
  },
  {
   "cell_type": "code",
   "execution_count": 30,
   "id": "present-blogger",
   "metadata": {
    "scrolled": true
   },
   "outputs": [
    {
     "data": {
      "image/png": "[encoded data removed]",
      "text/plain": [
       "<Figure size 432x288 with 2 Axes>"
      ]
     },
     "metadata": {
      "needs_background": "light"
     },
     "output_type": "display_data"
    }
   ],
   "source": [
    "#heatmap shows the relation between (age,overall,potential,value,wage,stamina,shotpower,international reputation)\n",
    "sns.heatmap(df_sal.corr(), annot=True);"
   ]
  }
 ],
 "metadata": {
  "kernelspec": {
   "display_name": "Python 3",
   "language": "python",
   "name": "python3"
  },
  "language_info": {
   "codemirror_mode": {
    "name": "ipython",
    "version": 3
   },
   "file_extension": ".py",
   "mimetype": "text/x-python",
   "name": "python",
   "nbconvert_exporter": "python",
   "pygments_lexer": "ipython3",
   "version": "3.9.1"
  }
 },
 "nbformat": 4,
 "nbformat_minor": 5
}
